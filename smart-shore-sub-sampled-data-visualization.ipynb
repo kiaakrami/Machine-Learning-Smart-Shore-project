{
 "cells": [
  {
   "cell_type": "markdown",
   "metadata": {},
   "source": [
    "# Smart Shore project"
   ]
  },
  {
   "cell_type": "markdown",
   "metadata": {},
   "source": [
    "### Loading packages"
   ]
  },
  {
   "cell_type": "code",
   "execution_count": 1,
   "metadata": {
    "collapsed": true
   },
   "outputs": [],
   "source": [
    "import pandas as pd\n",
    "import numpy as np\n",
    "import matplotlib.pyplot as plt\n",
    "from sklearn.preprocessing import StandardScaler"
   ]
  },
  {
   "cell_type": "markdown",
   "metadata": {},
   "source": [
    "### Reading Data"
   ]
  },
  {
   "cell_type": "code",
   "execution_count": 3,
   "metadata": {
    "collapsed": false
   },
   "outputs": [],
   "source": [
    "skip = 0\n",
    "nrows = 9000000\n",
    "#data = pd.read_csv('~/data/4-Vadeboncoeur/davis-bay.txt',sep=\" \", header=None, nrows=nrows, skiprows=skip)\n",
    "#datav = data.values"
   ]
  },
  {
   "cell_type": "code",
   "execution_count": 5,
   "metadata": {
    "collapsed": false
   },
   "outputs": [],
   "source": [
    "#column_names = ['lon', 'lat', 'z', 'r', 'g', 'b', 'thetax', 'thetay', 'phi']\n",
    "#data.columns = column_names"
   ]
  },
  {
   "cell_type": "code",
   "execution_count": 6,
   "metadata": {
    "collapsed": true
   },
   "outputs": [],
   "source": [
    "#data.shape"
   ]
  },
  {
   "cell_type": "code",
   "execution_count": 7,
   "metadata": {
    "collapsed": true
   },
   "outputs": [],
   "source": [
    "#data.head()"
   ]
  },
  {
   "cell_type": "code",
   "execution_count": 8,
   "metadata": {
    "collapsed": true
   },
   "outputs": [],
   "source": [
    "#data.describe().transpose()"
   ]
  },
  {
   "cell_type": "markdown",
   "metadata": {},
   "source": [
    "### Plotting the data"
   ]
  },
  {
   "cell_type": "code",
   "execution_count": 9,
   "metadata": {
    "collapsed": true
   },
   "outputs": [],
   "source": [
    "#scaler = StandardScaler()"
   ]
  },
  {
   "cell_type": "code",
   "execution_count": 10,
   "metadata": {
    "collapsed": true
   },
   "outputs": [],
   "source": [
    "#lon_ = scaler.fit_transform(data['lon'].values.reshape(-1,1)).ravel()\n",
    "#lat_ = data['lat'].values\n",
    "#lat_ = (lat_ - lat_.mean()) / scaler.scale_\n",
    "#z_ = data['z'].values\n",
    "#z_ = (z_ - z_.mean()) / scaler.scale_\n",
    "\n",
    "#lon_lat_z_ = np.vstack((lon_, lat_, z_)).T"
   ]
  },
  {
   "cell_type": "code",
   "execution_count": 11,
   "metadata": {
    "collapsed": true
   },
   "outputs": [],
   "source": [
    "#angles = data[['thetax', 'thetay', 'phi']].values\n",
    "\n",
    "#rgb = data.loc[:, ['r','g','b']].values\n",
    "#rgb_01 = rgb/255"
   ]
  },
  {
   "cell_type": "code",
   "execution_count": 12,
   "metadata": {
    "collapsed": true
   },
   "outputs": [],
   "source": [
    "#plt.figure(figsize=(10, 10))\n",
    "#plt.scatter(lon_lat_z_[:, 0], lon_lat_z_[:, 1], s=3, c=rgb_01);\n",
    "#plt.axis('equal');"
   ]
  },
  {
   "cell_type": "markdown",
   "metadata": {},
   "source": [
    "### Now we can clearly distinguish between different objects e.g. trees, roads..."
   ]
  },
  {
   "cell_type": "code",
   "execution_count": 15,
   "metadata": {
    "collapsed": false
   },
   "outputs": [
    {
     "data": {
      "text/plain": [
       "\"\\ndef hist3d(arr, **kwargs):\\n    \\n    arr is a 3D array\\n    \\n    nbins = kwargs.get('nbins', 50)\\n    th = kwargs.get('threshold', .01)\\n    figsize = kwargs.get('figsize', (10,8))\\n    elev = kwargs.get('elev', 45)\\n    azim = kwargs.get('azim', 30)\\n    cmap = kwargs.get('cmap', 'viridis')\\n    s = kwargs.get('s', 3)\\n\\n    H, edges = np.histogramdd(angles, bins=nbins)\\n    edges = np.vstack(edges).T\\n    edges = .5 * (edges[1:,:] + edges[:-1,:])\\n    edges.shape\\n\\n    x = []\\n    y = []\\n    z = []\\n    c = []\\n\\n    for j in range(nbins):\\n        for k in range(nbins):\\n            for l in range(nbins):\\n                v = H[j,k,l]\\n                if v < th:\\n                    continue\\n                else:\\n                    x.append(edges[j,0])\\n                    y.append(edges[k,1])\\n                    z.append(edges[l,2])\\n                    c.append(v)\\n    from mpl_toolkits.mplot3d import Axes3D\\n    fig = plt.figure(figsize=figsize)\\n    ax = fig.add_subplot(111, projection='3d')\\n    ax.view_init(elev, azim)\\n    im = ax.scatter(x, y, z, zdir='z', c=np.log(c), s=s, cmap=cmap);\\n    plt.colorbar(im);\\n    return\\n\""
      ]
     },
     "execution_count": 15,
     "metadata": {},
     "output_type": "execute_result"
    }
   ],
   "source": [
    "\"\"\"\n",
    "def hist3d(arr, **kwargs):\n",
    "    \n",
    "    arr is a 3D array\n",
    "    \n",
    "    nbins = kwargs.get('nbins', 50)\n",
    "    th = kwargs.get('threshold', .01)\n",
    "    figsize = kwargs.get('figsize', (10,8))\n",
    "    elev = kwargs.get('elev', 45)\n",
    "    azim = kwargs.get('azim', 30)\n",
    "    cmap = kwargs.get('cmap', 'viridis')\n",
    "    s = kwargs.get('s', 3)\n",
    "\n",
    "    H, edges = np.histogramdd(angles, bins=nbins)\n",
    "    edges = np.vstack(edges).T\n",
    "    edges = .5 * (edges[1:,:] + edges[:-1,:])\n",
    "    edges.shape\n",
    "\n",
    "    x = []\n",
    "    y = []\n",
    "    z = []\n",
    "    c = []\n",
    "\n",
    "    for j in range(nbins):\n",
    "        for k in range(nbins):\n",
    "            for l in range(nbins):\n",
    "                v = H[j,k,l]\n",
    "                if v < th:\n",
    "                    continue\n",
    "                else:\n",
    "                    x.append(edges[j,0])\n",
    "                    y.append(edges[k,1])\n",
    "                    z.append(edges[l,2])\n",
    "                    c.append(v)\n",
    "    from mpl_toolkits.mplot3d import Axes3D\n",
    "    fig = plt.figure(figsize=figsize)\n",
    "    ax = fig.add_subplot(111, projection='3d')\n",
    "    ax.view_init(elev, azim)\n",
    "    im = ax.scatter(x, y, z, zdir='z', c=np.log(c), s=s, cmap=cmap);\n",
    "    plt.colorbar(im);\n",
    "    return\n",
    "\"\"\"   "
   ]
  },
  {
   "cell_type": "code",
   "execution_count": 16,
   "metadata": {
    "collapsed": true
   },
   "outputs": [],
   "source": [
    "#hist3d(angles)"
   ]
  },
  {
   "cell_type": "code",
   "execution_count": null,
   "metadata": {
    "collapsed": true
   },
   "outputs": [],
   "source": []
  }
 ],
 "metadata": {
  "anaconda-cloud": {},
  "kernelspec": {
   "display_name": "Python [conda root]",
   "language": "python",
   "name": "conda-root-py"
  },
  "language_info": {
   "codemirror_mode": {
    "name": "ipython",
    "version": 2
   },
   "file_extension": ".py",
   "mimetype": "text/x-python",
   "name": "python",
   "nbconvert_exporter": "python",
   "pygments_lexer": "ipython2",
   "version": "2.7.12"
  }
 },
 "nbformat": 4,
 "nbformat_minor": 1
}
